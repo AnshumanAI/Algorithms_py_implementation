{
  "cells": [
    {
      "cell_type": "markdown",
      "metadata": {
        "id": "view-in-github",
        "colab_type": "text"
      },
      "source": [
        "<a href=\"https://colab.research.google.com/github/AnshumanAI/Algorithms_py_implementation/blob/main/Advanced_Computer_Algorithms_Lab_Notebook.ipynb\" target=\"_parent\"><img src=\"https://colab.research.google.com/assets/colab-badge.svg\" alt=\"Open In Colab\"/></a>"
      ]
    },
    {
      "cell_type": "code",
      "execution_count": null,
      "metadata": {
        "colab": {
          "base_uri": "https://localhost:8080/"
        },
        "id": "VH2NhL82Arej",
        "outputId": "2a0564d4-48e0-4e92-80a8-acf69273cda0"
      },
      "outputs": [
        {
          "output_type": "stream",
          "name": "stdout",
          "text": [
            "Target 13 found at index 6\n"
          ]
        }
      ],
      "source": [
        "def linear_search(arr, target):\n",
        "    for i in range(len(arr)):\n",
        "        if arr[i] == target:\n",
        "            return i  # Return the index where the target is found\n",
        "    return -1  # Return -1 if the target is not found in the array\n",
        "\n",
        "# Example usage:\n",
        "arr = [1, 3, 5, 7, 9, 11, 13, 15, 17, 19]\n",
        "target = 13\n",
        "result = linear_search(arr, target)\n",
        "\n",
        "if result != -1:\n",
        "    print(f\"Target {target} found at index {result}\")\n",
        "else:\n",
        "    print(f\"Target {target} not found in the array\")"
      ]
    },
    {
      "cell_type": "code",
      "execution_count": null,
      "metadata": {
        "colab": {
          "base_uri": "https://localhost:8080/"
        },
        "id": "nsf3gs_R_LVB",
        "outputId": "5eddf7f2-dc04-4648-82c4-7c2b556d5b4c"
      },
      "outputs": [
        {
          "name": "stdout",
          "output_type": "stream",
          "text": [
            "Element is present at index 3\n"
          ]
        }
      ],
      "source": [
        "# Iterative Binary Search Function\n",
        "# It returns index of x in given array arr if present,\n",
        "# else returns -1\n",
        "def binary_search(arr, x):\n",
        "    low = 0\n",
        "    high = len(arr) - 1\n",
        "    mid = 0\n",
        "\n",
        "    while low <= high:\n",
        "\n",
        "        mid = (high + low) // 2\n",
        "\n",
        "        # If x is greater, ignore left half\n",
        "        if arr[mid] < x:\n",
        "            low = mid + 1\n",
        "\n",
        "        # If x is smaller, ignore right half\n",
        "        elif arr[mid] > x:\n",
        "            high = mid - 1\n",
        "\n",
        "        # means x is present at mid\n",
        "        else:\n",
        "            return mid\n",
        "\n",
        "    # If we reach here, then the element was not present\n",
        "    return -1\n",
        "\n",
        "\n",
        "# Test array\n",
        "arr = [ 2, 3, 4, 10, 40 ]\n",
        "x = 10\n",
        "\n",
        "# Function call\n",
        "result = binary_search(arr, x)\n",
        "\n",
        "if result != -1:\n",
        "    print(\"Element is present at index\", str(result))\n",
        "else:\n",
        "    print(\"Element is not present in array\")"
      ]
    },
    {
      "cell_type": "code",
      "execution_count": null,
      "metadata": {
        "colab": {
          "base_uri": "https://localhost:8080/"
        },
        "id": "up0kV4vZAQJf",
        "outputId": "b5f475f2-ae86-465d-ad1f-c5350e5ea551"
      },
      "outputs": [
        {
          "name": "stdout",
          "output_type": "stream",
          "text": [
            "Target 13 found at index 6\n"
          ]
        }
      ],
      "source": [
        "import math\n",
        "\n",
        "def jump_search(arr, target):\n",
        "    n = len(arr)\n",
        "    step = int(math.sqrt(n))  # Determine the jump step size\n",
        "\n",
        "    # Find the block where the target may be present\n",
        "    prev = 0\n",
        "    while arr[min(step, n) - 1] < target:\n",
        "        prev = step\n",
        "        step += int(math.sqrt(n))\n",
        "        if prev >= n:\n",
        "            return -1  # Target is not in the array\n",
        "\n",
        "    # Perform linear search within the block\n",
        "    while arr[prev] < target:\n",
        "        prev += 1\n",
        "        if prev == min(step, n):\n",
        "            return -1  # Target is not in the array\n",
        "\n",
        "    if arr[prev] == target:\n",
        "        return prev  # Target found at index prev\n",
        "    else:\n",
        "        return -1  # Target is not in the array\n",
        "\n",
        "# Example usage:\n",
        "arr = [1, 3, 5, 7, 9, 11, 13, 15, 17, 19]\n",
        "target = 13\n",
        "result = jump_search(arr, target)\n",
        "\n",
        "if result != -1:\n",
        "    print(f\"Target {target} found at index {result}\")\n",
        "else:\n",
        "    print(f\"Target {target} not found in the array\")"
      ]
    },
    {
      "cell_type": "code",
      "source": [
        "#exponential search"
      ],
      "metadata": {
        "id": "J0DtGi9ZNjLX"
      },
      "execution_count": null,
      "outputs": []
    },
    {
      "cell_type": "code",
      "source": [
        "\n",
        "list1=list(map(int, input().split(\" \")))\n",
        "val=int(input())\n",
        "if list1[0] == val:\n",
        "    print(\"0\")\n",
        "i = 1\n",
        "#Finding range for binarySearch\n",
        "while(i<len(list1) and list1[i]<=val):\n",
        "        i = i * 2\n",
        "min1=min(i,len(list1))\n",
        "def binarySearch(data_list,low,high,value):\n",
        "    if(high>= low):\n",
        "        mid=int(low + ( high-low )//2)\n",
        "        if data_list[mid] == value:\n",
        "            return mid\n",
        "        if data_list[mid] > value:\n",
        "            return binarySearch(data_list,low,mid - 1,value)\n",
        "        else:\n",
        "            return binarySearch(data_list,mid + 1,high,value)\n",
        "    if(high<low):\n",
        "        return -1\n",
        "    # Applying binary search for specified range\n",
        "index=binarySearch(list1,i/2,min(i,len(list1)),val)\n",
        "if(index==-1):\n",
        "    print(\"Element not found\")\n",
        "else:\n",
        "    print(\"Element found at \",index)"
      ],
      "metadata": {
        "colab": {
          "base_uri": "https://localhost:8080/"
        },
        "id": "giJhlIz6rSI0",
        "outputId": "eb1547ca-134f-4cf7-d203-d01f27308c48"
      },
      "execution_count": null,
      "outputs": [
        {
          "output_type": "stream",
          "name": "stdout",
          "text": [
            "1 3 5 7 8 9\n",
            "3\n",
            "Element found at  1\n"
          ]
        }
      ]
    },
    {
      "cell_type": "code",
      "source": [],
      "metadata": {
        "id": "Yvduk3iW3FNP"
      },
      "execution_count": null,
      "outputs": []
    },
    {
      "cell_type": "code",
      "source": [
        "#sorting Algorithms"
      ],
      "metadata": {
        "id": "n9bR_BPX3FkE"
      },
      "execution_count": null,
      "outputs": []
    },
    {
      "cell_type": "code",
      "source": [
        "#quick sort and heap sort,rest I guess"
      ],
      "metadata": {
        "id": "Uuca7CDR3F80"
      },
      "execution_count": null,
      "outputs": []
    },
    {
      "cell_type": "code",
      "source": [
        "#9von"
      ],
      "metadata": {
        "id": "lCqp0m0feGCK"
      },
      "execution_count": null,
      "outputs": []
    },
    {
      "cell_type": "code",
      "source": [
        "#quick sort"
      ],
      "metadata": {
        "id": "5zTJf6nOeGQg"
      },
      "execution_count": null,
      "outputs": []
    },
    {
      "cell_type": "code",
      "source": [
        "#61vn"
      ],
      "metadata": {
        "id": "t5pmSm7ueGcK"
      },
      "execution_count": null,
      "outputs": []
    },
    {
      "cell_type": "code",
      "source": [
        "def partition(array, start, end):\n",
        "    pivot = array[start]\n",
        "    low = start + 1\n",
        "    high = end\n",
        "\n",
        "    while True:\n",
        "        # If the current value we're looking at is larger than the pivot\n",
        "        # it's in the right place (right side of pivot) and we can move left,\n",
        "        # to the next element.\n",
        "        # We also need to make sure we haven't surpassed the low pointer, since that\n",
        "        # indicates we have already moved all the elements to their correct side of the pivot\n",
        "        while low <= high and array[high] >= pivot:\n",
        "            high = high - 1\n",
        "\n",
        "        # Opposite process of the one above\n",
        "        while low <= high and array[low] <= pivot:\n",
        "            low = low + 1\n",
        "\n",
        "        # We either found a value for both high and low that is out of order\n",
        "        # or low is higher than high, in which case we exit the loop\n",
        "        if low <= high:\n",
        "            array[low], array[high] = array[high], array[low]\n",
        "            # The loop continues\n",
        "        else:\n",
        "            # We exit out of the loop\n",
        "            break\n",
        "\n",
        "    array[start], array[high] = array[high], array[start]\n",
        "\n",
        "    return high"
      ],
      "metadata": {
        "id": "ntTOWbxny8ce"
      },
      "execution_count": null,
      "outputs": []
    },
    {
      "cell_type": "code",
      "source": [
        "def quick_sort(array, start, end):\n",
        "    if start >= end:\n",
        "        return\n",
        "\n",
        "    p = partition(array, start, end)\n",
        "    quick_sort(array, start, p-1)\n",
        "    quick_sort(array, p+1, end)"
      ],
      "metadata": {
        "id": "Q73pTcCWzsjg"
      },
      "execution_count": null,
      "outputs": []
    },
    {
      "cell_type": "code",
      "source": [
        "array = list(map(int,input(\"give the elements to be sorted:\").split(\" \")))\n",
        "\n",
        "quick_sort(array, 0, len(array) - 1)\n",
        "print(array)"
      ],
      "metadata": {
        "colab": {
          "base_uri": "https://localhost:8080/"
        },
        "id": "qN3sl3HNz55h",
        "outputId": "6077ae34-49c1-4472-f754-2e22aac06eb2"
      },
      "execution_count": null,
      "outputs": [
        {
          "output_type": "stream",
          "name": "stdout",
          "text": [
            "give the elements to be sorted:9 1 3 2 5 7\n",
            "[1, 2, 3, 5, 7, 9]\n"
          ]
        }
      ]
    },
    {
      "cell_type": "code",
      "source": [
        "#merge sort,just for completion I guess"
      ],
      "metadata": {
        "id": "ld3X9Azj1mqP"
      },
      "execution_count": null,
      "outputs": []
    },
    {
      "cell_type": "code",
      "source": [
        "\n",
        "def mergeSort(arr):\n",
        "        if len(arr) > 1:\n",
        "\n",
        "            # Create sub_array2 ← A[start..mid] and sub_array2 ← A[mid+1..end]\n",
        "            mid = len(arr)//2\n",
        "            sub_array1 = arr[:mid]\n",
        "            sub_array2 = arr[mid:]\n",
        "\n",
        "            # Sort the two halves\n",
        "            mergeSort(sub_array1)\n",
        "            mergeSort(sub_array2)\n",
        "\n",
        "            # Initial values for pointers that we use to keep track of where we are in each array\n",
        "            i = j = k = 0\n",
        "\n",
        "        # Until we reach the end of either start or end, pick larger among\n",
        "        # elements start and end and place them in the correct position in the sorted array\n",
        "            while i < len(sub_array1) and j < len(sub_array2):\n",
        "                if sub_array1[i] < sub_array2[j]:\n",
        "                    arr[k] = sub_array1[i]\n",
        "                    i += 1\n",
        "                else:\n",
        "                    arr[k] = sub_array2[j]\n",
        "                    j += 1\n",
        "                k += 1\n",
        "\n",
        "        # When all elements are traversed in either arr1 or arr2,\n",
        "        # pick up the remaining elements and put in sorted array\n",
        "            while i < len(sub_array1):\n",
        "                arr[k] = sub_array1[i]\n",
        "                i += 1\n",
        "                k += 1\n",
        "\n",
        "            while j < len(sub_array2):\n",
        "                arr[k] = sub_array2[j]\n",
        "                j += 1\n",
        "                k += 1\n",
        "\n",
        "arr = [9,1,3,2,5,7]\n",
        "mergeSort(arr)\n",
        "print(arr)"
      ],
      "metadata": {
        "colab": {
          "base_uri": "https://localhost:8080/"
        },
        "id": "mV7V0JVs1wgl",
        "outputId": "fbe0bd60-1dcc-4685-a48a-191c9c40c274"
      },
      "execution_count": null,
      "outputs": [
        {
          "output_type": "stream",
          "name": "stdout",
          "text": [
            "[1, 2, 3, 5, 7, 9]\n"
          ]
        }
      ]
    },
    {
      "cell_type": "code",
      "source": [
        "#heap sort"
      ],
      "metadata": {
        "id": "gbx3lP5y1wuj"
      },
      "execution_count": null,
      "outputs": []
    },
    {
      "cell_type": "code",
      "source": [
        "#ip,ub bs lf"
      ],
      "metadata": {
        "id": "ULsRweHL1wxk"
      },
      "execution_count": null,
      "outputs": []
    },
    {
      "cell_type": "code",
      "source": [
        "#heap sort and Fibonacci heap etc"
      ],
      "metadata": {
        "id": "3mQR15bW1w1q"
      },
      "execution_count": null,
      "outputs": []
    },
    {
      "cell_type": "code",
      "source": [
        "\"\"\"def heapsort(list_argument):\n",
        "    build_max_heap(list_argument)\n",
        "    for i in range(len(list_argument) - 1, 0, -1):\n",
        "        list_argument[0], list_argument[i] = list_argument[i], list_argument[0]\n",
        "        max_heapify(list_argument, index=0, size=i)\n",
        "\n",
        "def parent(i):\n",
        "    return (i - 1)//2\n",
        "\n",
        "def left(i):\n",
        "    return 2*i + 1\n",
        "\n",
        "def right(i):\n",
        "    return 2*i + 2\n",
        "\n",
        "def build_max_heap(list_argument):\n",
        "    length = len(list_argument)\n",
        "    start = parent(length - 1)\n",
        "    while start >= 0:\n",
        "        max_heapify(list_argument, index=start, size=length)\n",
        "        start = start - 1\n",
        "\n",
        "def max_heapify(list_argument, index, size):\n",
        "    l = left(index)\n",
        "    r = right(index)\n",
        "    if (l < size and list_argument[l] > list_argument[index]):\n",
        "        largest = l\n",
        "    else:\n",
        "        largest = index\n",
        "    if (r < size and list_argument[r] > list_argument[largest]):\n",
        "        largest = r\n",
        "    if (largest != index):\n",
        "        list_argument[largest], list_argument[index] = list_argument[index], list_argument[largest]\n",
        "        max_heapify(list_argument, largest, size)\n",
        "\n",
        "\n",
        "INPUT = input('Enter the list of numbers: ').split(\" \")\n",
        "heapsort(INPUT)\n",
        "print('Sorted list: ', end='')\n",
        "print(INPUT)\"\"\""
      ],
      "metadata": {
        "id": "2a-2l9MFBnX3",
        "colab": {
          "base_uri": "https://localhost:8080/",
          "height": 487
        },
        "outputId": "6b699426-8630-4183-d8cc-a86789cedf70"
      },
      "execution_count": null,
      "outputs": [
        {
          "output_type": "execute_result",
          "data": {
            "text/plain": [
              "'def heapsort(list_argument):\\n    build_max_heap(list_argument)\\n    for i in range(len(list_argument) - 1, 0, -1):\\n        list_argument[0], list_argument[i] = list_argument[i], list_argument[0]\\n        max_heapify(list_argument, index=0, size=i)\\n \\ndef parent(i):\\n    return (i - 1)//2\\n \\ndef left(i):\\n    return 2*i + 1\\n \\ndef right(i):\\n    return 2*i + 2\\n \\ndef build_max_heap(list_argument):\\n    length = len(list_argument)\\n    start = parent(length - 1)\\n    while start >= 0:\\n        max_heapify(list_argument, index=start, size=length)\\n        start = start - 1\\n \\ndef max_heapify(list_argument, index, size):\\n    l = left(index)\\n    r = right(index)\\n    if (l < size and list_argument[l] > list_argument[index]):\\n        largest = l\\n    else:\\n        largest = index\\n    if (r < size and list_argument[r] > list_argument[largest]):\\n        largest = r\\n    if (largest != index):\\n        list_argument[largest], list_argument[index] = list_argument[index], list_argument[largest]\\n        max_heapify(list_argument, largest, size)\\n \\n \\nINPUT = input(\\'Enter the list of numbers: \\').split(\" \")\\nheapsort(INPUT)\\nprint(\\'Sorted list: \\', end=\\'\\')\\nprint(INPUT)'"
            ],
            "application/vnd.google.colaboratory.intrinsic+json": {
              "type": "string"
            }
          },
          "metadata": {},
          "execution_count": 7
        }
      ]
    },
    {
      "cell_type": "code",
      "source": [
        "\n",
        "\n",
        "from heapq import heappop, heappush\n",
        "\n",
        "def heap_sort(array):\n",
        "    heap = []\n",
        "    for element in array:\n",
        "        heappush(heap, element)\n",
        "\n",
        "    ordered = []\n",
        "\n",
        "    # While we have elements left in the heap\n",
        "    while heap:\n",
        "        ordered.append(heappop(heap))\n",
        "\n",
        "    return ordered\n",
        "\n",
        "array = [9,1,3,2,5,7]\n",
        "print(heap_sort(array))"
      ],
      "metadata": {
        "colab": {
          "base_uri": "https://localhost:8080/"
        },
        "id": "6YeQRgZvlRn5",
        "outputId": "43759072-646a-4093-8cce-1dfb5e069035"
      },
      "execution_count": null,
      "outputs": [
        {
          "output_type": "stream",
          "name": "stdout",
          "text": [
            "[1, 2, 3, 5, 7, 9]\n"
          ]
        }
      ]
    },
    {
      "cell_type": "code",
      "source": [
        "#https://github.com/danielborowski/fibonacci-heap-python"
      ],
      "metadata": {
        "id": "9hqCYSlQlyxC"
      },
      "execution_count": null,
      "outputs": []
    },
    {
      "cell_type": "code",
      "source": [
        "#Greedy,kruskal,prim,Huffman,job sequencing"
      ],
      "metadata": {
        "id": "9xeL9KwT1xHS"
      },
      "execution_count": null,
      "outputs": []
    },
    {
      "cell_type": "code",
      "source": [
        "#Greedy Algorithms"
      ],
      "metadata": {
        "id": "KlLASZ4amc6r"
      },
      "execution_count": null,
      "outputs": []
    },
    {
      "cell_type": "code",
      "source": [
        "#nv92\n",
        "\n",
        "#Prim's algorithm\n",
        "#help from Chatgpt"
      ],
      "metadata": {
        "id": "Ahc-ERqkmdGj"
      },
      "execution_count": null,
      "outputs": []
    },
    {
      "cell_type": "code",
      "source": [
        "\n",
        "from heapq import heappop, heappush\n",
        "\n",
        "def prim(graph):\n",
        "    mst = set()\n",
        "    visited = set(graph.keys())\n",
        "    start_node = list(visited)[0]\n",
        "    heap = [(0, start_node)]\n",
        "\n",
        "    while heap:\n",
        "        cost, current_node = heappop(heap)\n",
        "        if current_node not in visited:\n",
        "            continue\n",
        "\n",
        "        visited.remove(current_node)\n",
        "        mst.add(current_node)\n",
        "\n",
        "        for neighbor, weight in graph[current_node]:\n",
        "            if neighbor in visited:\n",
        "                heappush(heap, (weight, neighbor))\n",
        "\n",
        "    return mst\n",
        "\n",
        "# Example usage:\n",
        "graph = {\n",
        "    'A': [('B', 2), ('D', 5)],\n",
        "    'B': [('A', 2), ('C', 1), ('D', 3)],\n",
        "    'C': [('B', 1), ('D', 4)],\n",
        "    'D': [('A', 5), ('B', 3), ('C', 4)]\n",
        "}\n",
        "\n",
        "minimum_spanning_tree = prim(graph)\n",
        "print(\"Minimum Spanning Tree:\", minimum_spanning_tree)"
      ],
      "metadata": {
        "colab": {
          "base_uri": "https://localhost:8080/"
        },
        "id": "ouHkQEoqF5zo",
        "outputId": "8aa816e6-c1a4-4e59-90e7-5802f0ecfc3d"
      },
      "execution_count": null,
      "outputs": [
        {
          "output_type": "stream",
          "name": "stdout",
          "text": [
            "Minimum Spanning Tree: {'B', 'D', 'A', 'C'}\n"
          ]
        }
      ]
    },
    {
      "cell_type": "code",
      "source": [
        "###kruskal's algorithm"
      ],
      "metadata": {
        "id": "1rugG5S6GLuL"
      },
      "execution_count": null,
      "outputs": []
    },
    {
      "cell_type": "code",
      "source": [
        "\n",
        "class UnionFind:\n",
        "    def __init__(self, nodes):\n",
        "        self.parent = {node: node for node in nodes}\n",
        "        self.rank = {node: 0 for node in nodes}\n",
        "\n",
        "    def find(self, node):\n",
        "        if self.parent[node] != node:\n",
        "            self.parent[node] = self.find(self.parent[node])\n",
        "        return self.parent[node]\n",
        "\n",
        "    def union(self, node1, node2):\n",
        "        root1 = self.find(node1)\n",
        "        root2 = self.find(node2)\n",
        "\n",
        "        if root1 != root2:\n",
        "            if self.rank[root1] > self.rank[root2]:\n",
        "                self.parent[root2] = root1\n",
        "            elif self.rank[root1] < self.rank[root2]:\n",
        "                self.parent[root1] = root2\n",
        "            else:\n",
        "                self.parent[root2] = root1\n",
        "                self.rank[root1] += 1\n",
        "\n",
        "def kruskal(graph):\n",
        "    edges = []\n",
        "    for node in graph:\n",
        "        for neighbor, weight in graph[node]:\n",
        "            edges.append((weight, node, neighbor))\n",
        "\n",
        "    edges.sort()\n",
        "\n",
        "    minimum_spanning_tree = set()\n",
        "    union_find = UnionFind(graph.keys())\n",
        "\n",
        "    for edge in edges:\n",
        "        weight, node1, node2 = edge\n",
        "        if union_find.find(node1) != union_find.find(node2):\n",
        "            minimum_spanning_tree.add((node1, node2, weight))\n",
        "            union_find.union(node1, node2)\n",
        "\n",
        "    return minimum_spanning_tree\n",
        "\n",
        "# Example usage:\n",
        "graph = {\n",
        "    'A': [('B', 2), ('D', 5)],\n",
        "    'B': [('A', 2), ('C', 1), ('D', 3)],\n",
        "    'C': [('B', 1), ('D', 4)],\n",
        "    'D': [('A', 5), ('B', 3), ('C', 4)]\n",
        "}\n",
        "\n",
        "minimum_spanning_tree = kruskal(graph)\n",
        "print(\"Minimum Spanning Tree:\", minimum_spanning_tree)"
      ],
      "metadata": {
        "colab": {
          "base_uri": "https://localhost:8080/"
        },
        "id": "knP-RJXQHP95",
        "outputId": "a331e21a-a6c5-4638-b370-5c32b6fd0789"
      },
      "execution_count": null,
      "outputs": [
        {
          "output_type": "stream",
          "name": "stdout",
          "text": [
            "Minimum Spanning Tree: {('B', 'D', 3), ('B', 'C', 1), ('A', 'B', 2)}\n"
          ]
        }
      ]
    },
    {
      "cell_type": "code",
      "source": [
        "#Traversal"
      ],
      "metadata": {
        "id": "btgYMaOaInCb"
      },
      "execution_count": null,
      "outputs": []
    },
    {
      "cell_type": "code",
      "source": [
        "from collections import deque\n",
        "\n",
        "def bfs(graph, start):\n",
        "    visited = set()\n",
        "    queue = deque([start])\n",
        "    result = []\n",
        "\n",
        "    while queue:\n",
        "        current_node = queue.popleft()\n",
        "\n",
        "        if current_node not in visited:\n",
        "            visited.add(current_node)\n",
        "            result.append(current_node)\n",
        "\n",
        "            for neighbor in graph[current_node]:\n",
        "                if neighbor not in visited:\n",
        "                    queue.append(neighbor)\n",
        "\n",
        "    return result\n",
        "\n",
        "# Example usage:\n",
        "graph_bfs = {\n",
        "    'A': ['B', 'D'],\n",
        "    'B': ['A', 'C', 'D'],\n",
        "    'C': ['B', 'D'],\n",
        "    'D': ['A', 'B', 'C']\n",
        "}\n",
        "\n",
        "start_node_bfs = 'A'\n",
        "result_bfs = bfs(graph_bfs, start_node_bfs)\n",
        "print(\"BFS Traversal:\", result_bfs)"
      ],
      "metadata": {
        "colab": {
          "base_uri": "https://localhost:8080/"
        },
        "id": "QyzwzcuCYkuE",
        "outputId": "801097f9-85dc-4d7c-d8be-8202c9633452"
      },
      "execution_count": null,
      "outputs": [
        {
          "output_type": "stream",
          "name": "stdout",
          "text": [
            "BFS Traversal: ['A', 'B', 'D', 'C']\n"
          ]
        }
      ]
    },
    {
      "cell_type": "code",
      "source": [
        "def dfs(graph, start, visited=None):\n",
        "    if visited is None:\n",
        "        visited = set()\n",
        "    result = []\n",
        "\n",
        "    visited.add(start)\n",
        "    result.append(start)\n",
        "\n",
        "    for neighbor in graph[start]:\n",
        "        if neighbor not in visited:\n",
        "            result.extend(dfs(graph, neighbor, visited))\n",
        "\n",
        "    return result\n",
        "\n",
        "# Example usage:\n",
        "graph_dfs = {\n",
        "    'A': ['B', 'D'],\n",
        "    'B': ['A', 'C', 'D'],\n",
        "    'C': ['B', 'D'],\n",
        "    'D': ['A', 'B', 'C']\n",
        "}\n",
        "\n",
        "start_node_dfs = 'A'\n",
        "result_dfs = dfs(graph_dfs, start_node_dfs)\n",
        "print(\"DFS Traversal:\", result_dfs)"
      ],
      "metadata": {
        "colab": {
          "base_uri": "https://localhost:8080/"
        },
        "id": "aIy7iXZHYmJc",
        "outputId": "d20d1e15-cdaa-4ada-8124-c21071786762"
      },
      "execution_count": null,
      "outputs": [
        {
          "output_type": "stream",
          "name": "stdout",
          "text": [
            "DFS Traversal: ['A', 'B', 'C', 'D']\n"
          ]
        }
      ]
    },
    {
      "cell_type": "code",
      "source": [
        "#shortest path"
      ],
      "metadata": {
        "id": "0G6rGrdkYtoc"
      },
      "execution_count": null,
      "outputs": []
    },
    {
      "cell_type": "code",
      "source": [
        "#Dijkstra"
      ],
      "metadata": {
        "id": "_m2EMVV6Zf0Y"
      },
      "execution_count": null,
      "outputs": []
    },
    {
      "cell_type": "code",
      "source": [
        "import heapq\n",
        "\n",
        "def dijkstra(graph, start):\n",
        "    distances = {node: float('infinity') for node in graph}\n",
        "    distances[start] = 0\n",
        "    heap = [(0, start)]\n",
        "\n",
        "    while heap:\n",
        "        current_distance, current_node = heapq.heappop(heap)\n",
        "\n",
        "        if current_distance > distances[current_node]:\n",
        "            continue\n",
        "\n",
        "        for neighbor, weight in graph[current_node]:\n",
        "            distance = current_distance + weight\n",
        "\n",
        "            if distance < distances[neighbor]:\n",
        "                distances[neighbor] = distance\n",
        "                heapq.heappush(heap, (distance, neighbor))\n",
        "\n",
        "    return distances\n",
        "\n",
        "# Example usage:\n",
        "graph_dijkstra = {\n",
        "    'A': [('B', 2), ('D', 5)],\n",
        "    'B': [('A', 2), ('C', 1), ('D', 3)],\n",
        "    'C': [('B', 1), ('D', 4)],\n",
        "    'D': [('A', 5), ('B', 3), ('C', 4)]\n",
        "}\n",
        "\n",
        "start_node_dijkstra = 'A'\n",
        "result_dijkstra = dijkstra(graph_dijkstra, start_node_dijkstra)\n",
        "print(\"Dijkstra's Shortest Distances from node A:\", result_dijkstra)"
      ],
      "metadata": {
        "colab": {
          "base_uri": "https://localhost:8080/"
        },
        "id": "7Fw56BiQY8AK",
        "outputId": "d3c6f4af-9d2a-4bdd-ff0a-19c73dad2035"
      },
      "execution_count": null,
      "outputs": [
        {
          "output_type": "stream",
          "name": "stdout",
          "text": [
            "Dijkstra's Shortest Distances from node A: {'A': 0, 'B': 2, 'C': 3, 'D': 5}\n"
          ]
        }
      ]
    },
    {
      "cell_type": "code",
      "source": [
        "#Bellman Ford Algorithm"
      ],
      "metadata": {
        "id": "zgPetnxTZi9L"
      },
      "execution_count": null,
      "outputs": []
    },
    {
      "cell_type": "code",
      "source": [
        "def bellman_ford(graph, start):\n",
        "    distances = {node: float('infinity') for node in graph}\n",
        "    distances[start] = 0\n",
        "\n",
        "    for _ in range(len(graph) - 1):\n",
        "        for node in graph:\n",
        "            for neighbor, weight in graph[node]:\n",
        "                if distances[node] + weight < distances[neighbor]:\n",
        "                    distances[neighbor] = distances[node] + weight\n",
        "\n",
        "    return distances\n",
        "\n",
        "# Example usage:\n",
        "graph_bellman_ford = {\n",
        "    'A': [('B', 2), ('D', 5)],\n",
        "    'B': [('A', 2), ('C', 1), ('D', 3)],\n",
        "    'C': [('B', 1), ('D', 4)],\n",
        "    'D': [('A', 5), ('B', 3), ('C', 4)]\n",
        "}\n",
        "\n",
        "start_node_bellman_ford = 'A'\n",
        "result_bellman_ford = bellman_ford(graph_bellman_ford, start_node_bellman_ford)\n",
        "print(\"Bellman-Ford Shortest Distances:\", result_bellman_ford)"
      ],
      "metadata": {
        "colab": {
          "base_uri": "https://localhost:8080/"
        },
        "id": "xO9R3qDiZjQn",
        "outputId": "61e7fc6f-4966-4ac8-e761-89c78b01797f"
      },
      "execution_count": null,
      "outputs": [
        {
          "output_type": "stream",
          "name": "stdout",
          "text": [
            "Bellman-Ford Shortest Distances: {'A': 0, 'B': 2, 'C': 3, 'D': 5}\n"
          ]
        }
      ]
    },
    {
      "cell_type": "code",
      "source": [
        "#All pair shortest path, Floyd warshall algorithm"
      ],
      "metadata": {
        "id": "VnCdWvRYZjUp"
      },
      "execution_count": null,
      "outputs": []
    },
    {
      "cell_type": "code",
      "source": [
        "def floyd_warshall(graph):\n",
        "    nodes = list(graph.keys())\n",
        "    distance_matrix = {i: {j: float('infinity') for j in nodes} for i in nodes}\n",
        "\n",
        "    for node in nodes:\n",
        "        distance_matrix[node][node] = 0\n",
        "        for neighbor, weight in graph[node]:\n",
        "            distance_matrix[node][neighbor] = weight\n",
        "\n",
        "    for k in nodes:\n",
        "        for i in nodes:\n",
        "            for j in nodes:\n",
        "                distance_matrix[i][j] = min(distance_matrix[i][j], distance_matrix[i][k] + distance_matrix[k][j])\n",
        "\n",
        "    return distance_matrix\n",
        "\n",
        "# Example usage:\n",
        "graph_floyd_warshall = {\n",
        "    'A': [('B', 2), ('D', 5)],\n",
        "    'B': [('A', 2), ('C', 1), ('D', 3)],\n",
        "    'C': [('B', 1), ('D', 4)],\n",
        "    'D': [('A', 5), ('B', 3), ('C', 4)]\n",
        "}\n",
        "\n",
        "result_floyd_warshall = floyd_warshall(graph_floyd_warshall)\n",
        "print(\"Floyd-Warshall Shortest Distances:\")\n",
        "for row in result_floyd_warshall:\n",
        "    print(row, \":\", result_floyd_warshall[row])"
      ],
      "metadata": {
        "colab": {
          "base_uri": "https://localhost:8080/"
        },
        "id": "ldNt2cyZZWF0",
        "outputId": "52f68c23-68aa-4d6b-a48b-a6bc614d5d9a"
      },
      "execution_count": null,
      "outputs": [
        {
          "output_type": "stream",
          "name": "stdout",
          "text": [
            "Floyd-Warshall Shortest Distances:\n",
            "A : {'A': 0, 'B': 2, 'C': 3, 'D': 5}\n",
            "B : {'A': 2, 'B': 0, 'C': 1, 'D': 3}\n",
            "C : {'A': 3, 'B': 1, 'C': 0, 'D': 4}\n",
            "D : {'A': 5, 'B': 3, 'C': 4, 'D': 0}\n"
          ]
        }
      ]
    },
    {
      "cell_type": "code",
      "source": [
        "#Connectivity, min cut"
      ],
      "metadata": {
        "id": "ivqGzlIwa3aL"
      },
      "execution_count": null,
      "outputs": []
    },
    {
      "cell_type": "code",
      "source": [
        "#Karger's Algorithm"
      ],
      "metadata": {
        "id": "nKE2HLiLa890"
      },
      "execution_count": null,
      "outputs": []
    },
    {
      "cell_type": "code",
      "source": [
        "import random\n",
        "\n",
        "def karger_min_cut(graph):\n",
        "    while len(graph) > 2:\n",
        "        edge = random.choice(list(graph.keys()))\n",
        "        neighbor = random.choice(graph[edge])\n",
        "\n",
        "        # Merge the nodes represented by 'edge' and 'neighbor'\n",
        "        graph[edge].extend(graph[neighbor])\n",
        "        for node in graph[neighbor]:\n",
        "            graph[node].remove(neighbor)\n",
        "            graph[node].append(edge)\n",
        "\n",
        "        # Remove self-loops\n",
        "        graph[edge] = [node for node in graph[edge] if node != edge]\n",
        "\n",
        "        del graph[neighbor]\n",
        "\n",
        "    # Return the size of the remaining cut\n",
        "    remaining_edges = len(list(graph.values())[0])\n",
        "    return remaining_edges\n",
        "\n",
        "# Example usage:\n",
        "graph_karger = {\n",
        "    'A': ['B', 'D'],\n",
        "    'B': ['A', 'C', 'D'],\n",
        "    'C': ['B', 'D'],\n",
        "    'D': ['A', 'B', 'C']\n",
        "}\n",
        "\n",
        "num_trials = 100  # Number of trials for more accurate results\n",
        "min_cut_size = float('inf')\n",
        "\n",
        "for _ in range(num_trials):\n",
        "    graph_copy = {key: value.copy() for key, value in graph_karger.items()}\n",
        "    current_cut_size = karger_min_cut(graph_copy)\n",
        "    min_cut_size = min(min_cut_size, current_cut_size)\n",
        "\n",
        "print(\"Minimum Cut Size:\", min_cut_size)"
      ],
      "metadata": {
        "colab": {
          "base_uri": "https://localhost:8080/"
        },
        "id": "_9N5WD4Va62S",
        "outputId": "94e17f2c-7c3e-46b8-8fa7-2d6e08eb81d6"
      },
      "execution_count": null,
      "outputs": [
        {
          "output_type": "stream",
          "name": "stdout",
          "text": [
            "Minimum Cut Size: 2\n"
          ]
        }
      ]
    }
  ],
  "metadata": {
    "colab": {
      "provenance": [],
      "include_colab_link": true
    },
    "kernelspec": {
      "display_name": "Python 3",
      "name": "python3"
    },
    "language_info": {
      "name": "python"
    }
  },
  "nbformat": 4,
  "nbformat_minor": 0
}